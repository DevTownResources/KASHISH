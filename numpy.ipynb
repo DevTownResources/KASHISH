{
 "cells": [
  {
   "cell_type": "code",
   "execution_count": null,
   "id": "fd86c58d-d847-47ee-a066-bf50d11b3277",
   "metadata": {},
   "outputs": [],
   "source": [
    "#numpy party 2\n",
    "#numerical python"
   ]
  },
  {
   "cell_type": "code",
   "execution_count": 8,
   "id": "e9b0b060-6fff-4c36-82f0-93eee57e59d1",
   "metadata": {},
   "outputs": [
    {
     "name": "stdout",
     "output_type": "stream",
     "text": [
      "8\n"
     ]
    }
   ],
   "source": [
    "import numpy as np\n",
    "a = np.array([1,2,3,4,5])\n",
    "print(a[2] + a[4])"
   ]
  },
  {
   "cell_type": "markdown",
   "id": "631aeff2",
   "metadata": {},
   "source": [
    "#datatypes\n",
    "i - integer\n",
    "b - boolean\n",
    "u - unsigned integer\n",
    "f - float\n",
    "c - complex float\n",
    "m - timedelta\n",
    "M - datetime\n",
    "O - object\n",
    "S - string\n",
    "U - unicode string\n",
    "V - fixed chunk of memory for other type ( void )"
   ]
  },
  {
   "cell_type": "code",
   "execution_count": 10,
   "id": "abe6773c-843f-48c7-941f-a1b4da631002",
   "metadata": {},
   "outputs": [
    {
     "name": "stdout",
     "output_type": "stream",
     "text": [
      "<U6\n"
     ]
    }
   ],
   "source": [
    "import numpy as np\n",
    "a  = np.array(['apple','mango','orange'])\n",
    "print(a.dtype)"
   ]
  },
  {
   "cell_type": "code",
   "execution_count": 14,
   "id": "54851935-e009-44d0-ba61-a1e63ebdd773",
   "metadata": {},
   "outputs": [
    {
     "name": "stdout",
     "output_type": "stream",
     "text": [
      "[1 2 3 4]\n",
      "int32\n"
     ]
    }
   ],
   "source": [
    "import numpy as np\n",
    "a  = np.array([1.2,2.56,3.38,4])\n",
    "b = a.astype('i')\n",
    "print(b)\n",
    "print(b.dtype)\n"
   ]
  },
  {
   "cell_type": "code",
   "execution_count": 16,
   "id": "8d819195",
   "metadata": {},
   "outputs": [
    {
     "name": "stdout",
     "output_type": "stream",
     "text": [
      "[32  2  3  4  5]\n",
      "[1 2 3 4 5]\n"
     ]
    }
   ],
   "source": [
    "#cop and view numpy\n",
    "import numpy as np \n",
    "a = np.array([1,2,3,4,5])\n",
    "x = a.copy()\n",
    "\n",
    "a[0] = 32\n",
    "\n",
    "print(a)\n",
    "print(x)"
   ]
  },
  {
   "cell_type": "code",
   "execution_count": 17,
   "id": "76c4b004",
   "metadata": {
    "scrolled": true
   },
   "outputs": [
    {
     "name": "stdout",
     "output_type": "stream",
     "text": [
      "[32  2  3  4  5]\n",
      "[32  2  3  4  5]\n"
     ]
    }
   ],
   "source": [
    "import numpy as np \n",
    "a = np.array([1,2,3,4,5])\n",
    "x = a.view()\n",
    "\n",
    "a[0] = 32\n",
    "\n",
    "print(a)\n",
    "print(x)"
   ]
  },
  {
   "cell_type": "code",
   "execution_count": null,
   "id": "2c137e56",
   "metadata": {},
   "outputs": [],
   "source": [
    "#numpy part 3\n",
    "#array sort"
   ]
  },
  {
   "cell_type": "code",
   "execution_count": 25,
   "id": "f76ea3b4",
   "metadata": {},
   "outputs": [
    {
     "name": "stdout",
     "output_type": "stream",
     "text": [
      "[False  True  True]\n"
     ]
    }
   ],
   "source": [
    "import numpy as np \n",
    "a = np.array([True,False,True])\n",
    "print(np.sort(a))\n"
   ]
  },
  {
   "cell_type": "code",
   "execution_count": 26,
   "id": "65e35278",
   "metadata": {},
   "outputs": [
    {
     "name": "stdout",
     "output_type": "stream",
     "text": [
      "[2 4]\n"
     ]
    }
   ],
   "source": [
    "#filter\n",
    "import numpy as np \n",
    "a = np.array([2,5,9,4,7])\n",
    "x = a[[True,False,False,True,False]]\n",
    "print(x)"
   ]
  },
  {
   "cell_type": "code",
   "execution_count": 48,
   "id": "70c080a6",
   "metadata": {},
   "outputs": [
    {
     "name": "stdout",
     "output_type": "stream",
     "text": [
      "7\n"
     ]
    }
   ],
   "source": [
    "#random number\n",
    "from numpy import random\n",
    "a = random.choice([3,7,8,4,5])\n",
    "print(a)"
   ]
  },
  {
   "cell_type": "code",
   "execution_count": 51,
   "id": "81986d1f",
   "metadata": {},
   "outputs": [
    {
     "name": "stdout",
     "output_type": "stream",
     "text": [
      "[4 4 4 5 5 6 4 8 8 6 8 5 5 4 4 8 6 5 4 8 5 4 5 5 6 4 8 4 6 4 6 4 4 4 4 6 4\n",
      " 6 6 5 6 4 5 5 6 5 5 4 4 4 4 5 6 5 6 8 8 4 5 8 6 6 6 8 4 4 8 8 5 5 6 4 4 4\n",
      " 4 6 4 4 4 6 4 4 6 8 4 4 4 5 5 6 4 5 5 4 4 4 8 8 5 6]\n"
     ]
    }
   ],
   "source": [
    "#data distribution\n",
    "from numpy import random\n",
    "a = random.choice([5,6,4,8], p = [0.2,0.2,0.4,0.2], size=100)\n",
    "print(a)"
   ]
  },
  {
   "cell_type": "code",
   "execution_count": null,
   "id": "e9ac0913",
   "metadata": {},
   "outputs": [],
   "source": []
  }
 ],
 "metadata": {
  "kernelspec": {
   "display_name": "Python 3 (ipykernel)",
   "language": "python",
   "name": "python3"
  },
  "language_info": {
   "codemirror_mode": {
    "name": "ipython",
    "version": 3
   },
   "file_extension": ".py",
   "mimetype": "text/x-python",
   "name": "python",
   "nbconvert_exporter": "python",
   "pygments_lexer": "ipython3",
   "version": "3.9.13"
  }
 },
 "nbformat": 4,
 "nbformat_minor": 5
}
