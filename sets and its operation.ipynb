{
 "cells": [
  {
   "cell_type": "code",
   "execution_count": 8,
   "id": "8d483e58",
   "metadata": {},
   "outputs": [],
   "source": [
    "#Sets are used to store multiple items in a single variable.\n",
    "#A set is a collection which is unordered, unchangeable*, and unindexed.\n",
    "#{} bracket used\n"
   ]
  },
  {
   "cell_type": "code",
   "execution_count": 11,
   "id": "14ef5181",
   "metadata": {},
   "outputs": [
    {
     "name": "stdout",
     "output_type": "stream",
     "text": [
      "{'apple', 'cherry', 'mango'}\n"
     ]
    }
   ],
   "source": [
    "fruits={\"apple\",\"cherry\",\"mango\"}\n",
    "print(fruits)"
   ]
  },
  {
   "cell_type": "code",
   "execution_count": 16,
   "id": "22d13327",
   "metadata": {},
   "outputs": [
    {
     "name": "stdout",
     "output_type": "stream",
     "text": [
      "set()\n"
     ]
    }
   ],
   "source": [
    "s ={1,2,3,\"a\",\"b\"}\n",
    "#s.add(\"python\")\n",
    "#s.remove(3)\n",
    "#s.discard(2)\n",
    "#s.pop()\n",
    "s.clear()\n",
    "print(s)"
   ]
  },
  {
   "cell_type": "code",
   "execution_count": 25,
   "id": "c3fb719d",
   "metadata": {},
   "outputs": [
    {
     "name": "stdout",
     "output_type": "stream",
     "text": [
      "True\n"
     ]
    }
   ],
   "source": [
    "s1 = {1,2,3,4}\n",
    "s2 = {1,2,3,4,5,6,7}\n",
    "#print(s1.union(s2))\n",
    "#print(s1 | s2)\n",
    "#print(s1.intersection(s2))\n",
    "#print(s1 & s2)\n",
    "#print(s1.issubset(s2))\n",
    "print(s2.issuperset(s1))"
   ]
  },
  {
   "cell_type": "code",
   "execution_count": null,
   "id": "3fccb44d",
   "metadata": {},
   "outputs": [],
   "source": []
  }
 ],
 "metadata": {
  "kernelspec": {
   "display_name": "Python 3 (ipykernel)",
   "language": "python",
   "name": "python3"
  },
  "language_info": {
   "codemirror_mode": {
    "name": "ipython",
    "version": 3
   },
   "file_extension": ".py",
   "mimetype": "text/x-python",
   "name": "python",
   "nbconvert_exporter": "python",
   "pygments_lexer": "ipython3",
   "version": "3.9.13"
  }
 },
 "nbformat": 4,
 "nbformat_minor": 5
}
