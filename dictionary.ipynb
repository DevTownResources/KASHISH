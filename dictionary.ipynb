{
 "cells": [
  {
   "cell_type": "code",
   "execution_count": 15,
   "id": "5c475b54",
   "metadata": {},
   "outputs": [
    {
     "name": "stdout",
     "output_type": "stream",
     "text": [
      "{}\n"
     ]
    }
   ],
   "source": [
    "#clear()method removes all the elements from a dictionary.\n",
    "#syntax dictionary.clear().\n",
    "byke = {\n",
    "    \"year\":2000,\n",
    "    \"model\":\"pulsar\",\n",
    "    \"color\":\"white\"\n",
    "}\n",
    "byke.clear()\n",
    "print(byke)"
   ]
  },
  {
   "cell_type": "code",
   "execution_count": 17,
   "id": "38ea01ec",
   "metadata": {},
   "outputs": [
    {
     "name": "stdout",
     "output_type": "stream",
     "text": [
      "{'year': 2000, 'model': 'pulsar', 'color': 'white', 'owner': 'ram'}\n"
     ]
    }
   ],
   "source": [
    "#The copy() method returns a copy of the specified dictionary.\n",
    "#syntax dictionary.copy()\n",
    "byke = {\n",
    "    \"year\":2000,\n",
    "    \"model\":\"pulsar\",\n",
    "    \"color\":\"white\",\n",
    "    \"owner\":\"ram\"\n",
    "}\n",
    "x = byke.copy()\n",
    "print(x)"
   ]
  },
  {
   "cell_type": "code",
   "execution_count": 21,
   "id": "ba26fb66",
   "metadata": {},
   "outputs": [
    {
     "name": "stdout",
     "output_type": "stream",
     "text": [
      "{'year': 2000, 'model': 'pulsar', 'color': 'white', 'owner': 'ram', 'fuel': 'petrol', 'address': 'delhi'}\n"
     ]
    }
   ],
   "source": [
    "#The update() method inserts the specified items to the dictionary.\n",
    "#syntax dictionary.update(iterable)\n",
    "byke = {\n",
    "    \"year\":2000,\n",
    "    \"model\":\"pulsar\",\n",
    "    \"color\":\"white\",\n",
    "    \"owner\":\"ram\"\n",
    "}\n",
    "byke.update({\"fuel\":\"petrol\",\"address\":\"delhi\"})\n",
    "print(byke)"
   ]
  },
  {
   "cell_type": "raw",
   "id": "ae564ec9",
   "metadata": {},
   "source": []
  },
  {
   "cell_type": "code",
   "execution_count": 24,
   "id": "aaad6421",
   "metadata": {},
   "outputs": [
    {
     "name": "stdout",
     "output_type": "stream",
     "text": [
      "pulsar\n"
     ]
    }
   ],
   "source": [
    "#The setdefault() method returns the value of the item with the specified key.\n",
    "#dictionary.setdefault(key,value)\n",
    "byke = {\n",
    "    \"year\":2000,\n",
    "    \"model\":\"pulsar\",\n",
    "    \"color\":\"white\",\n",
    "    \"owner\":\"ram\"\n",
    "}\n",
    "x= byke.setdefault(\"model\",\"apache\")\n",
    "print(x)"
   ]
  },
  {
   "cell_type": "code",
   "execution_count": 25,
   "id": "ad0e3a8d",
   "metadata": {},
   "outputs": [
    {
     "name": "stdout",
     "output_type": "stream",
     "text": [
      "{'year': 2000, 'model': 'pulsar', 'color': 'white'}\n"
     ]
    }
   ],
   "source": [
    "#The popitem() method removes the item that was last inserted into the dictionary.\n",
    "#syntax dictionary.popitem()\n",
    "byke = {\n",
    "    \"year\":2000,\n",
    "    \"model\":\"pulsar\",\n",
    "    \"color\":\"white\",\n",
    "    \"owner\":\"ram\"\n",
    "}\n",
    "byke.popitem()\n",
    "print(byke)"
   ]
  },
  {
   "cell_type": "code",
   "execution_count": null,
   "id": "4b460d0e",
   "metadata": {},
   "outputs": [],
   "source": []
  }
 ],
 "metadata": {
  "kernelspec": {
   "display_name": "Python 3 (ipykernel)",
   "language": "python",
   "name": "python3"
  },
  "language_info": {
   "codemirror_mode": {
    "name": "ipython",
    "version": 3
   },
   "file_extension": ".py",
   "mimetype": "text/x-python",
   "name": "python",
   "nbconvert_exporter": "python",
   "pygments_lexer": "ipython3",
   "version": "3.9.13"
  }
 },
 "nbformat": 4,
 "nbformat_minor": 5
}
