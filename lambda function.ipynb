{
 "cells": [
  {
   "cell_type": "code",
   "execution_count": null,
   "id": "bbea0be1",
   "metadata": {},
   "outputs": [],
   "source": [
    "#lambda function\n",
    "#a lambda function is a small anonymous function\n",
    "#lambda arguments : expression"
   ]
  },
  {
   "cell_type": "code",
   "execution_count": 1,
   "id": "8ddccc1c",
   "metadata": {},
   "outputs": [
    {
     "name": "stdout",
     "output_type": "stream",
     "text": [
      "15\n"
     ]
    }
   ],
   "source": [
    "a = lambda x: x+10\n",
    "print(a(5))"
   ]
  },
  {
   "cell_type": "code",
   "execution_count": 2,
   "id": "79be5878",
   "metadata": {},
   "outputs": [
    {
     "name": "stdout",
     "output_type": "stream",
     "text": [
      "12\n"
     ]
    }
   ],
   "source": [
    "a = lambda p,q : p*q\n",
    "print(a(2,6))"
   ]
  },
  {
   "cell_type": "code",
   "execution_count": 8,
   "id": "be21f6fa",
   "metadata": {},
   "outputs": [
    {
     "name": "stdout",
     "output_type": "stream",
     "text": [
      "28\n"
     ]
    }
   ],
   "source": [
    "a = lambda p,q,r : p*q-r\n",
    "print(a(5,6,2))"
   ]
  },
  {
   "cell_type": "code",
   "execution_count": 13,
   "id": "7ca88b16",
   "metadata": {},
   "outputs": [
    {
     "name": "stdout",
     "output_type": "stream",
     "text": [
      "20\n",
      "9\n"
     ]
    }
   ],
   "source": [
    "def myname(n):\n",
    "    return lambda a : a*n\n",
    "mydoubler = myname(2)\n",
    "mytriple = myname(3)\n",
    "print(mydoubler(10))\n",
    "print(mytriple(3))"
   ]
  },
  {
   "cell_type": "code",
   "execution_count": null,
   "id": "0f213aac",
   "metadata": {},
   "outputs": [],
   "source": []
  },
  {
   "cell_type": "code",
   "execution_count": null,
   "id": "f6914f47",
   "metadata": {},
   "outputs": [],
   "source": []
  },
  {
   "cell_type": "code",
   "execution_count": null,
   "id": "d8bc9d9b",
   "metadata": {},
   "outputs": [],
   "source": []
  },
  {
   "cell_type": "code",
   "execution_count": null,
   "id": "d5c879a3",
   "metadata": {},
   "outputs": [],
   "source": []
  }
 ],
 "metadata": {
  "kernelspec": {
   "display_name": "Python 3 (ipykernel)",
   "language": "python",
   "name": "python3"
  },
  "language_info": {
   "codemirror_mode": {
    "name": "ipython",
    "version": 3
   },
   "file_extension": ".py",
   "mimetype": "text/x-python",
   "name": "python",
   "nbconvert_exporter": "python",
   "pygments_lexer": "ipython3",
   "version": "3.9.13"
  }
 },
 "nbformat": 4,
 "nbformat_minor": 5
}
