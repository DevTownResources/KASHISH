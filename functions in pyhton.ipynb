{
 "cells": [
  {
   "cell_type": "code",
   "execution_count": null,
   "id": "bbb7f9f4",
   "metadata": {},
   "outputs": [],
   "source": [
    "#functions in python\n",
    "#a function is a block of code which only runs when it is called"
   ]
  },
  {
   "cell_type": "code",
   "execution_count": 3,
   "id": "20af18c1",
   "metadata": {},
   "outputs": [
    {
     "name": "stdout",
     "output_type": "stream",
     "text": [
      "devtown\n"
     ]
    }
   ],
   "source": [
    "def my_name():\n",
    "    print(\"devtown\")\n",
    "    \n",
    "my_name()"
   ]
  },
  {
   "cell_type": "code",
   "execution_count": 6,
   "id": "0916c617",
   "metadata": {},
   "outputs": [
    {
     "name": "stdout",
     "output_type": "stream",
     "text": [
      " richard  jackson \n",
      " kyle  jackson \n",
      " david  jackson \n"
     ]
    }
   ],
   "source": [
    "#arguments\n",
    "def my_name(fname):\n",
    "    print(fname +\" jackson \")\n",
    "    \n",
    "my_name(\" richard \")\n",
    "my_name(\" kyle \")\n",
    "my_name(\" david \")"
   ]
  },
  {
   "cell_type": "code",
   "execution_count": 9,
   "id": "2ecd6f56",
   "metadata": {},
   "outputs": [
    {
     "ename": "TypeError",
     "evalue": "my_name() missing 1 required positional argument: 'lname'",
     "output_type": "error",
     "traceback": [
      "\u001b[1;31m---------------------------------------------------------------------------\u001b[0m",
      "\u001b[1;31mTypeError\u001b[0m                                 Traceback (most recent call last)",
      "\u001b[1;32m~\\AppData\\Local\\Temp\\ipykernel_13580\\972402974.py\u001b[0m in \u001b[0;36m<module>\u001b[1;34m\u001b[0m\n\u001b[0;32m      1\u001b[0m \u001b[1;32mdef\u001b[0m \u001b[0mmy_name\u001b[0m\u001b[1;33m(\u001b[0m\u001b[0mfname\u001b[0m\u001b[1;33m,\u001b[0m \u001b[0mlname\u001b[0m\u001b[1;33m)\u001b[0m\u001b[1;33m:\u001b[0m\u001b[1;33m\u001b[0m\u001b[1;33m\u001b[0m\u001b[0m\n\u001b[0;32m      2\u001b[0m     \u001b[0mprint\u001b[0m\u001b[1;33m(\u001b[0m\u001b[0mfname\u001b[0m \u001b[1;33m+\u001b[0m \u001b[1;34m\"\"\u001b[0m \u001b[1;33m+\u001b[0m \u001b[0mlname\u001b[0m\u001b[1;33m)\u001b[0m\u001b[1;33m\u001b[0m\u001b[1;33m\u001b[0m\u001b[0m\n\u001b[1;32m----> 3\u001b[1;33m \u001b[0mmy_name\u001b[0m\u001b[1;33m(\u001b[0m\u001b[1;34m\"jack\"\u001b[0m \u001b[1;33m)\u001b[0m\u001b[1;33m\u001b[0m\u001b[1;33m\u001b[0m\u001b[0m\n\u001b[0m",
      "\u001b[1;31mTypeError\u001b[0m: my_name() missing 1 required positional argument: 'lname'"
     ]
    }
   ],
   "source": [
    "def my_name(fname, lname):\n",
    "    print(fname + \"\" + lname)\n",
    "my_name(\"jack\" )"
   ]
  },
  {
   "cell_type": "code",
   "execution_count": 14,
   "id": "4d140fd4",
   "metadata": {},
   "outputs": [
    {
     "name": "stdout",
     "output_type": "stream",
     "text": [
      "smallest kidrahul\n"
     ]
    }
   ],
   "source": [
    "#arbitary arguments(*)\n",
    "def my_name(*boys):\n",
    "    print(\"smallest kid\" + boys[2])\n",
    "my_name(\"jack\",\"rich\",\"rahul\",\"ram\",\"devtown\")\n"
   ]
  },
  {
   "cell_type": "code",
   "execution_count": null,
   "id": "01c36fdf",
   "metadata": {},
   "outputs": [],
   "source": []
  },
  {
   "cell_type": "code",
   "execution_count": null,
   "id": "8c2a9fe2",
   "metadata": {},
   "outputs": [],
   "source": []
  }
 ],
 "metadata": {
  "kernelspec": {
   "display_name": "Python 3 (ipykernel)",
   "language": "python",
   "name": "python3"
  },
  "language_info": {
   "codemirror_mode": {
    "name": "ipython",
    "version": 3
   },
   "file_extension": ".py",
   "mimetype": "text/x-python",
   "name": "python",
   "nbconvert_exporter": "python",
   "pygments_lexer": "ipython3",
   "version": "3.9.13"
  }
 },
 "nbformat": 4,
 "nbformat_minor": 5
}
